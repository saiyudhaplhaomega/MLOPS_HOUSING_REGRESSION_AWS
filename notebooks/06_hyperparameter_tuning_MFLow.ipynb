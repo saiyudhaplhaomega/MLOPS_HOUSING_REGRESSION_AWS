{
 "cells": [
  {
   "cell_type": "code",
   "execution_count": 1,
   "id": "89cf7200",
   "metadata": {},
   "outputs": [
    {
     "name": "stdout",
     "output_type": "stream",
     "text": [
      "3.0.4\n"
     ]
    }
   ],
   "source": [
    "import xgboost as xgb\n",
    "print(xgb.__version__)"
   ]
  },
  {
   "cell_type": "code",
   "execution_count": 2,
   "id": "260096cb",
   "metadata": {},
   "outputs": [
    {
     "name": "stdout",
     "output_type": "stream",
     "text": [
      "c:\\Users\\saiyu\\Desktop\\projects\\AWS\\AI_ML_OPS\\Housing_Regression_ML_EndtoEnd\\.venv\\Scripts\\python.exe\n",
      "3.0.4\n",
      "c:\\Users\\saiyu\\Desktop\\projects\\AWS\\AI_ML_OPS\\Housing_Regression_ML_EndtoEnd\\.venv\\Lib\\site-packages\\xgboost\\__init__.py\n"
     ]
    }
   ],
   "source": [
    "import sys, xgboost as xgb\n",
    "print(sys.executable)        # should point to .../.venv/bin/python\n",
    "print(xgb.__version__)       # should print 3.0.4\n",
    "print(xgb.__file__)          # should live under .../.venv/..."
   ]
  },
  {
   "cell_type": "code",
   "execution_count": 3,
   "id": "478bf394",
   "metadata": {},
   "outputs": [
    {
     "name": "stderr",
     "output_type": "stream",
     "text": [
      "c:\\Users\\saiyu\\Desktop\\projects\\AWS\\AI_ML_OPS\\Housing_Regression_ML_EndtoEnd\\.venv\\Lib\\site-packages\\tqdm\\auto.py:21: TqdmWarning: IProgress not found. Please update jupyter and ipywidgets. See https://ipywidgets.readthedocs.io/en/stable/user_install.html\n",
      "  from .autonotebook import tqdm as notebook_tqdm\n"
     ]
    }
   ],
   "source": [
    "# ==============================================\n",
    "# 1. Imports\n",
    "# ==============================================\n",
    "import pandas as pd\n",
    "import numpy as np\n",
    "from sklearn.metrics import mean_absolute_error, mean_squared_error, r2_score\n",
    "from xgboost import XGBRegressor\n",
    "import optuna\n",
    "import mlflow\n",
    "import mlflow.xgboost"
   ]
  },
  {
   "cell_type": "code",
   "execution_count": 5,
   "id": "a0bc804c",
   "metadata": {},
   "outputs": [
    {
     "name": "stdout",
     "output_type": "stream",
     "text": [
      "Train shape: (585244, 39)\n",
      "Eval shape: (149424, 39)\n"
     ]
    }
   ],
   "source": [
    "# ==============================================\n",
    "# 2. Load processed datasets\n",
    "# ==============================================\n",
    "train_df = pd.read_csv(\"../data/processed/feature_engineered_train.csv\")\n",
    "eval_df  = pd.read_csv(\"../data/processed/feature_engineered_eval.csv\")\n",
    "\n",
    "\n",
    "# Define target + features\n",
    "target = \"price\"\n",
    "X_train, y_train = train_df.drop(columns=[target]), train_df[target]\n",
    "X_eval, y_eval   = eval_df.drop(columns=[target]), eval_df[target]\n",
    "\n",
    "print(\"Train shape:\", X_train.shape)\n",
    "print(\"Eval shape:\", X_eval.shape)"
   ]
  },
  {
   "cell_type": "code",
   "execution_count": 7,
   "id": "fadb78cd",
   "metadata": {},
   "outputs": [],
   "source": [
    "# ==============================================\n",
    "# 3. Define Optuna objective function with MLflow\n",
    "# ==============================================\n",
    "def objective(trial):\n",
    "    params = {\n",
    "        \"n_estimators\": trial.suggest_int(\"n_estimators\", 200, 1000),\n",
    "        \"max_depth\": trial.suggest_int(\"max_depth\", 3, 10),\n",
    "        \"learning_rate\": trial.suggest_float(\"learning_rate\", 0.01, 0.3, log=True),\n",
    "        \"subsample\": trial.suggest_float(\"subsample\", 0.5, 1.0),\n",
    "        \"colsample_bytree\": trial.suggest_float(\"colsample_bytree\", 0.5, 1.0),\n",
    "        \"min_child_weight\": trial.suggest_int(\"min_child_weight\", 1, 10),\n",
    "        \"gamma\": trial.suggest_float(\"gamma\", 0.0, 5.0),\n",
    "        \"reg_alpha\": trial.suggest_float(\"reg_alpha\", 1e-8, 10.0, log=True),\n",
    "        \"reg_lambda\": trial.suggest_float(\"reg_lambda\", 1e-8, 10.0, log=True),\n",
    "        \"random_state\": 42,\n",
    "        \"n_jobs\": -1,\n",
    "        \"tree_method\": \"hist\",\n",
    "    }\n",
    "\n",
    "    with mlflow.start_run(nested=True):\n",
    "        model = XGBRegressor(**params)\n",
    "        model.fit(X_train, y_train)\n",
    "\n",
    "        y_pred = model.predict(X_eval)\n",
    "        rmse = float(np.sqrt(mean_squared_error(y_eval, y_pred)))\n",
    "        mae = float(mean_absolute_error(y_eval, y_pred))\n",
    "        r2 = float(r2_score(y_eval, y_pred))\n",
    "\n",
    "        # Log hyperparameters + metrics\n",
    "        mlflow.log_params(params)\n",
    "        mlflow.log_metrics({\"rmse\": rmse, \"mae\": mae, \"r2\": r2})\n",
    "\n",
    "    return rmse"
   ]
  },
  {
   "cell_type": "code",
   "execution_count": 9,
   "id": "4ed4b5f5",
   "metadata": {},
   "outputs": [
    {
     "name": "stderr",
     "output_type": "stream",
     "text": [
      "2025/10/31 14:48:37 INFO mlflow.tracking.fluent: Experiment with name 'xgboost_optuna_housing' does not exist. Creating a new experiment.\n",
      "[I 2025-10-31 14:48:37,127] A new study created in memory with name: no-name-68d4a3c7-228b-4a1a-8228-b48df3fddb31\n",
      "[I 2025-10-31 14:48:44,508] Trial 0 finished with value: 77487.90590691846 and parameters: {'n_estimators': 214, 'max_depth': 4, 'learning_rate': 0.10407732316482468, 'subsample': 0.5053771387867868, 'colsample_bytree': 0.9236190867314102, 'min_child_weight': 1, 'gamma': 3.600196746321478, 'reg_alpha': 0.007414504148023852, 'reg_lambda': 2.534671129163125e-08}. Best is trial 0 with value: 77487.90590691846.\n",
      "[I 2025-10-31 14:49:13,580] Trial 1 finished with value: 85494.3045042292 and parameters: {'n_estimators': 868, 'max_depth': 5, 'learning_rate': 0.27412810639981244, 'subsample': 0.8262983802457371, 'colsample_bytree': 0.5877555700046563, 'min_child_weight': 7, 'gamma': 1.3973973854567834, 'reg_alpha': 5.884890705228703, 'reg_lambda': 0.9050267244702246}. Best is trial 0 with value: 77487.90590691846.\n",
      "[I 2025-10-31 14:49:43,644] Trial 2 finished with value: 72607.3312218332 and parameters: {'n_estimators': 384, 'max_depth': 9, 'learning_rate': 0.012754620269291733, 'subsample': 0.6393074391021569, 'colsample_bytree': 0.5774437182846104, 'min_child_weight': 7, 'gamma': 1.8363806486923373, 'reg_alpha': 0.0024738509203478917, 'reg_lambda': 0.09074150066319585}. Best is trial 2 with value: 72607.3312218332.\n",
      "[I 2025-10-31 14:50:15,844] Trial 3 finished with value: 69495.83748262875 and parameters: {'n_estimators': 985, 'max_depth': 5, 'learning_rate': 0.08967605575745337, 'subsample': 0.7462115474065567, 'colsample_bytree': 0.5299286740518465, 'min_child_weight': 1, 'gamma': 0.7479908322622142, 'reg_alpha': 3.994636009640168e-07, 'reg_lambda': 0.0008077467251309673}. Best is trial 3 with value: 69495.83748262875.\n",
      "[I 2025-10-31 14:50:35,579] Trial 4 finished with value: 79405.53356094942 and parameters: {'n_estimators': 424, 'max_depth': 6, 'learning_rate': 0.01524273018660374, 'subsample': 0.9368282679578945, 'colsample_bytree': 0.9490832468035421, 'min_child_weight': 1, 'gamma': 2.9784207168467196, 'reg_alpha': 7.296346898742499e-08, 'reg_lambda': 8.47237759069554e-06}. Best is trial 3 with value: 69495.83748262875.\n",
      "[I 2025-10-31 14:51:19,364] Trial 5 finished with value: 90336.83491621209 and parameters: {'n_estimators': 599, 'max_depth': 10, 'learning_rate': 0.22436898305471356, 'subsample': 0.6459626124491497, 'colsample_bytree': 0.8050848706041871, 'min_child_weight': 4, 'gamma': 4.645973198902759, 'reg_alpha': 6.001394617357027e-08, 'reg_lambda': 5.103923333999336e-08}. Best is trial 3 with value: 69495.83748262875.\n",
      "[I 2025-10-31 14:51:27,368] Trial 6 finished with value: 86290.00635229083 and parameters: {'n_estimators': 257, 'max_depth': 4, 'learning_rate': 0.03230111063272121, 'subsample': 0.9974587251065528, 'colsample_bytree': 0.7174232854543539, 'min_child_weight': 7, 'gamma': 0.27093236661355546, 'reg_alpha': 0.2865514726916642, 'reg_lambda': 0.6432626279536199}. Best is trial 3 with value: 69495.83748262875.\n",
      "[I 2025-10-31 14:51:56,531] Trial 7 finished with value: 71155.01401331797 and parameters: {'n_estimators': 881, 'max_depth': 6, 'learning_rate': 0.08009050192796757, 'subsample': 0.9134654015051391, 'colsample_bytree': 0.7354873992295219, 'min_child_weight': 2, 'gamma': 3.7344479365902927, 'reg_alpha': 0.2510742077128816, 'reg_lambda': 1.4952297206507787}. Best is trial 3 with value: 69495.83748262875.\n",
      "[I 2025-10-31 14:52:25,158] Trial 8 finished with value: 83284.36903823868 and parameters: {'n_estimators': 385, 'max_depth': 10, 'learning_rate': 0.11346104766690755, 'subsample': 0.7802559435651775, 'colsample_bytree': 0.577147076990747, 'min_child_weight': 3, 'gamma': 2.3805154119589167, 'reg_alpha': 0.49165888900963756, 'reg_lambda': 2.0927270423242225e-06}. Best is trial 3 with value: 69495.83748262875.\n",
      "[I 2025-10-31 14:53:03,424] Trial 9 finished with value: 71721.96721013637 and parameters: {'n_estimators': 527, 'max_depth': 9, 'learning_rate': 0.01430914528223009, 'subsample': 0.9863620540341644, 'colsample_bytree': 0.5171157255106056, 'min_child_weight': 3, 'gamma': 4.486002214015284, 'reg_alpha': 0.18869297151168726, 'reg_lambda': 0.3445603517539253}. Best is trial 3 with value: 69495.83748262875.\n",
      "[I 2025-10-31 14:53:29,890] Trial 10 finished with value: 78630.38832119403 and parameters: {'n_estimators': 1000, 'max_depth': 3, 'learning_rate': 0.04224996077733779, 'subsample': 0.6679760973527459, 'colsample_bytree': 0.6651592923990287, 'min_child_weight': 10, 'gamma': 0.12970648959910747, 'reg_alpha': 7.362381312798072e-06, 'reg_lambda': 0.0020909596659731034}. Best is trial 3 with value: 69495.83748262875.\n",
      "[I 2025-10-31 14:54:04,151] Trial 11 finished with value: 77747.35455745994 and parameters: {'n_estimators': 769, 'max_depth': 7, 'learning_rate': 0.0831279714575631, 'subsample': 0.8650225293615189, 'colsample_bytree': 0.8340010222248759, 'min_child_weight': 1, 'gamma': 3.5263623996377693, 'reg_alpha': 1.5641056213889885e-05, 'reg_lambda': 0.001991187941408851}. Best is trial 3 with value: 69495.83748262875.\n",
      "[I 2025-10-31 14:54:39,497] Trial 12 finished with value: 72018.40919285003 and parameters: {'n_estimators': 791, 'max_depth': 7, 'learning_rate': 0.06134530433055043, 'subsample': 0.735900833622167, 'colsample_bytree': 0.6885539434855394, 'min_child_weight': 3, 'gamma': 1.4617957309970047, 'reg_alpha': 1.1037269294153396e-05, 'reg_lambda': 0.01703385634433509}. Best is trial 3 with value: 69495.83748262875.\n",
      "[I 2025-10-31 14:55:16,988] Trial 13 finished with value: 75486.14823957717 and parameters: {'n_estimators': 982, 'max_depth': 6, 'learning_rate': 0.17188152248011276, 'subsample': 0.8751910024146913, 'colsample_bytree': 0.794784996730213, 'min_child_weight': 5, 'gamma': 3.8738827735657106, 'reg_alpha': 0.00016594816201793186, 'reg_lambda': 5.436662958716612}. Best is trial 3 with value: 69495.83748262875.\n",
      "[I 2025-10-31 14:55:47,998] Trial 14 finished with value: 73904.58021244532 and parameters: {'n_estimators': 867, 'max_depth': 5, 'learning_rate': 0.026600092695580772, 'subsample': 0.7094137446929973, 'colsample_bytree': 0.8785531225913711, 'min_child_weight': 2, 'gamma': 0.9997604581164576, 'reg_alpha': 7.313146133750617e-07, 'reg_lambda': 6.191807557919977e-05}. Best is trial 3 with value: 69495.83748262875.\n"
     ]
    },
    {
     "name": "stdout",
     "output_type": "stream",
     "text": [
      "Best params: {'n_estimators': 985, 'max_depth': 5, 'learning_rate': 0.08967605575745337, 'subsample': 0.7462115474065567, 'colsample_bytree': 0.5299286740518465, 'min_child_weight': 1, 'gamma': 0.7479908322622142, 'reg_alpha': 3.994636009640168e-07, 'reg_lambda': 0.0008077467251309673}\n"
     ]
    }
   ],
   "source": [
    "# ==============================================\n",
    "# 4. Run Optuna study with MLflow\n",
    "# ==============================================\n",
    "# Force MLflow to always use the root project mlruns folder\n",
    "mlflow.set_tracking_uri(\"../mlruns\")\n",
    "mlflow.set_experiment(\"xgboost_optuna_housing\")\n",
    "\n",
    "study = optuna.create_study(direction=\"minimize\")\n",
    "study.optimize(objective, n_trials=15)\n",
    "\n",
    "print(\"Best params:\", study.best_trial.params)"
   ]
  },
  {
   "cell_type": "code",
   "execution_count": 7,
   "id": "21b8c223",
   "metadata": {},
   "outputs": [
    {
     "name": "stdout",
     "output_type": "stream",
     "text": [
      "Final tuned model performance:\n",
      "MAE: 31472.002185832847\n",
      "RMSE: 70459.0823185452\n",
      "R²: 0.9616351065691122\n"
     ]
    },
    {
     "name": "stderr",
     "output_type": "stream",
     "text": [
      "/Users/riadanas/Desktop/housing regression MLE/.venv/lib/python3.11/site-packages/xgboost/sklearn.py:1028: UserWarning: [13:59:53] WARNING: /Users/runner/work/xgboost/xgboost/src/c_api/c_api.cc:1427: Saving model in the UBJSON format as default.  You can use file extension: `json`, `ubj` or `deprecated` to choose between formats.\n",
      "  self.get_booster().save_model(fname)\n",
      "2025/09/23 13:59:56 WARNING mlflow.utils.environment: Failed to resolve installed pip version. ``pip`` will be added to conda.yaml environment spec without a version specifier.\n",
      "\u001b[31m2025/09/23 13:59:56 WARNING mlflow.models.model: Model logged without a signature and input example. Please set `input_example` parameter when logging the model to auto infer the model signature.\u001b[0m\n"
     ]
    }
   ],
   "source": [
    "# ==============================================\n",
    "# 5. Train final model with best params and log to MLflow\n",
    "# ==============================================\n",
    "best_params = study.best_trial.params\n",
    "best_model = XGBRegressor(**best_params)\n",
    "best_model.fit(X_train, y_train)\n",
    "\n",
    "y_pred = best_model.predict(X_eval)\n",
    "\n",
    "mae = mean_absolute_error(y_eval, y_pred)\n",
    "rmse = np.sqrt(mean_squared_error(y_eval, y_pred))\n",
    "r2 = r2_score(y_eval, y_pred)\n",
    "\n",
    "print(\"Final tuned model performance:\")\n",
    "print(\"MAE:\", mae)\n",
    "print(\"RMSE:\", rmse)\n",
    "print(\"R²:\", r2)\n",
    "\n",
    "# Log final model\n",
    "with mlflow.start_run(run_name=\"best_xgboost_model\"):\n",
    "    mlflow.log_params(best_params)\n",
    "    mlflow.log_metrics({\"rmse\": rmse, \"mae\": mae, \"r2\": r2})\n",
    "    mlflow.xgboost.log_model(best_model, name=\"model\")"
   ]
  },
  {
   "cell_type": "code",
   "execution_count": null,
   "id": "be1c1be9",
   "metadata": {},
   "outputs": [],
   "source": []
  }
 ],
 "metadata": {
  "kernelspec": {
   "display_name": ".venv",
   "language": "python",
   "name": "python3"
  },
  "language_info": {
   "codemirror_mode": {
    "name": "ipython",
    "version": 3
   },
   "file_extension": ".py",
   "mimetype": "text/x-python",
   "name": "python",
   "nbconvert_exporter": "python",
   "pygments_lexer": "ipython3",
   "version": "3.11.13"
  }
 },
 "nbformat": 4,
 "nbformat_minor": 5
}
