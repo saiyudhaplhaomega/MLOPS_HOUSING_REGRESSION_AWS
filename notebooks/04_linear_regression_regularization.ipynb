{
 "cells": [
  {
   "cell_type": "code",
   "execution_count": 1,
   "id": "dda0f6e3",
   "metadata": {},
   "outputs": [],
   "source": [
    "# ================================================\n",
    "# 1. Imports\n",
    "# ================================================\n",
    "import pandas as pd\n",
    "from sklearn.preprocessing import StandardScaler\n",
    "from sklearn.linear_model import LinearRegression, Ridge, Lasso, ElasticNet\n",
    "from sklearn.metrics import mean_absolute_error, mean_squared_error, r2_score\n",
    "import numpy as np"
   ]
  },
  {
   "cell_type": "code",
   "execution_count": 2,
   "id": "3a813683",
   "metadata": {},
   "outputs": [],
   "source": [
    "# ================================================\n",
    "# 2. Load datasets (train + eval)\n",
    "# ================================================\n",
    "train_df = pd.read_csv(\"../data/processed/feature_engineered_train.csv\")\n",
    "eval_df  = pd.read_csv(\"../data/processed/feature_engineered_eval.csv\")"
   ]
  },
  {
   "cell_type": "code",
   "execution_count": 12,
   "id": "4f794af9",
   "metadata": {},
   "outputs": [
    {
     "data": {
      "text/plain": [
       "'\\n# ================================================\\n# 3. Drop high VIF features (both train + eval)\\n# ================================================\\nhigh_vif_features = [\\n    \"median_sale_price\" #highest correlation to \\'price\\' => data leakage\\n]\\ntrain_df.drop(columns=high_vif_features, inplace=True)\\neval_df.drop(columns=high_vif_features, inplace=True)\\n'"
      ]
     },
     "execution_count": 12,
     "metadata": {},
     "output_type": "execute_result"
    }
   ],
   "source": [
    "'''\n",
    "# ================================================\n",
    "# 3. Drop high VIF features (both train + eval)\n",
    "# ================================================\n",
    "high_vif_features = [\n",
    "    \"median_sale_price\" #highest correlation to 'price' => data leakage\n",
    "]\n",
    "train_df.drop(columns=high_vif_features, inplace=True)\n",
    "eval_df.drop(columns=high_vif_features, inplace=True)\n",
    "'''"
   ]
  },
  {
   "cell_type": "code",
   "execution_count": 3,
   "id": "b13b87a5",
   "metadata": {},
   "outputs": [],
   "source": [
    "# ================================================\n",
    "# 4. Define target & features\n",
    "# ================================================\n",
    "target = \"price\"\n",
    "X_train = train_df.drop(columns=[target])\n",
    "y_train = train_df[target]\n",
    "\n",
    "X_eval = eval_df.drop(columns=[target])\n",
    "y_eval = eval_df[target]"
   ]
  },
  {
   "cell_type": "code",
   "execution_count": 4,
   "id": "0e0d45d7",
   "metadata": {},
   "outputs": [],
   "source": [
    "# ================================================\n",
    "# 5. Standardization (fit on train, transform eval)\n",
    "# ================================================\n",
    "scaler = StandardScaler()\n",
    "X_train_scaled = scaler.fit_transform(X_train)\n",
    "X_eval_scaled  = scaler.transform(X_eval)"
   ]
  },
  {
   "cell_type": "code",
   "execution_count": 5,
   "id": "c28de823",
   "metadata": {},
   "outputs": [
    {
     "name": "stdout",
     "output_type": "stream",
     "text": [
      "Linear Regression:\n",
      " MAE: 74046.01149146403\n",
      " RMSE: 152223.9629506679\n",
      " R²: 0.8206989637952419\n"
     ]
    }
   ],
   "source": [
    "# ================================================\n",
    "# 6. Train & Evaluate Models\n",
    "# ================================================\n",
    "\n",
    "# --- Linear Regression ---\n",
    "lr = LinearRegression()\n",
    "lr.fit(X_train_scaled, y_train)\n",
    "y_pred_lr = lr.predict(X_eval_scaled)\n",
    "\n",
    "print(\"Linear Regression:\")\n",
    "print(\" MAE:\", mean_absolute_error(y_eval, y_pred_lr))\n",
    "print(\" RMSE:\", np.sqrt(mean_squared_error(y_eval, y_pred_lr)))\n",
    "print(\" R²:\", r2_score(y_eval, y_pred_lr))"
   ]
  },
  {
   "cell_type": "code",
   "execution_count": 6,
   "id": "4a88aa0c",
   "metadata": {},
   "outputs": [
    {
     "name": "stdout",
     "output_type": "stream",
     "text": [
      "\n",
      "Ridge Regression:\n",
      " MAE: 74048.9788038887\n",
      " RMSE: 152226.32036037813\n",
      " R²: 0.8206934102770104\n"
     ]
    }
   ],
   "source": [
    "# --- Ridge Regression ---\n",
    "ridge = Ridge(alpha=1.0)\n",
    "ridge.fit(X_train_scaled, y_train)\n",
    "y_pred_ridge = ridge.predict(X_eval_scaled)\n",
    "\n",
    "print(\"\\nRidge Regression:\")\n",
    "print(\" MAE:\", mean_absolute_error(y_eval, y_pred_ridge))\n",
    "print(\" RMSE:\", np.sqrt(mean_squared_error(y_eval, y_pred_ridge)))\n",
    "print(\" R²:\", r2_score(y_eval, y_pred_ridge))"
   ]
  },
  {
   "cell_type": "code",
   "execution_count": 7,
   "id": "619e8dfa",
   "metadata": {},
   "outputs": [
    {
     "name": "stdout",
     "output_type": "stream",
     "text": [
      "\n",
      "Lasso Regression:\n",
      " MAE: 74655.37579594916\n",
      " RMSE: 152617.8550253345\n",
      " R²: 0.8197698507947349\n"
     ]
    },
    {
     "name": "stderr",
     "output_type": "stream",
     "text": [
      "c:\\Users\\saiyu\\Desktop\\projects\\AWS\\AI_ML_OPS\\Housing_Regression_ML_EndtoEnd\\.venv\\Lib\\site-packages\\sklearn\\linear_model\\_coordinate_descent.py:695: ConvergenceWarning: Objective did not converge. You might want to increase the number of iterations, check the scale of the features or consider increasing regularisation. Duality gap: 5.241e+15, tolerance: 5.314e+12\n",
      "  model = cd_fast.enet_coordinate_descent(\n"
     ]
    }
   ],
   "source": [
    "# --- Lasso Regression ---\n",
    "lasso = Lasso(alpha=0.1)\n",
    "lasso.fit(X_train_scaled, y_train)\n",
    "y_pred_lasso = lasso.predict(X_eval_scaled)\n",
    "\n",
    "print(\"\\nLasso Regression:\")\n",
    "print(\" MAE:\", mean_absolute_error(y_eval, y_pred_lasso))\n",
    "print(\" RMSE:\", np.sqrt(mean_squared_error(y_eval, y_pred_lasso)))\n",
    "print(\" R²:\", r2_score(y_eval, y_pred_lasso))"
   ]
  },
  {
   "cell_type": "code",
   "execution_count": 8,
   "id": "44ca8480",
   "metadata": {},
   "outputs": [
    {
     "name": "stdout",
     "output_type": "stream",
     "text": [
      "\n",
      "ElasticNet Regression:\n",
      " MAE: 73537.88606098914\n",
      " RMSE: 155551.1139385384\n",
      " R²: 0.8127753607606538\n"
     ]
    }
   ],
   "source": [
    "# --- ElasticNet ---\n",
    "elastic = ElasticNet(alpha=0.1, l1_ratio=0.5)\n",
    "elastic.fit(X_train_scaled, y_train)\n",
    "y_pred_elastic = elastic.predict(X_eval_scaled)\n",
    "\n",
    "print(\"\\nElasticNet Regression:\")\n",
    "print(\" MAE:\", mean_absolute_error(y_eval, y_pred_elastic))\n",
    "print(\" RMSE:\", np.sqrt(mean_squared_error(y_eval, y_pred_elastic)))\n",
    "print(\" R²:\", r2_score(y_eval, y_pred_elastic))"
   ]
  },
  {
   "cell_type": "code",
   "execution_count": null,
   "id": "23c9bc44",
   "metadata": {},
   "outputs": [],
   "source": []
  }
 ],
 "metadata": {
  "kernelspec": {
   "display_name": ".venv",
   "language": "python",
   "name": "python3"
  },
  "language_info": {
   "codemirror_mode": {
    "name": "ipython",
    "version": 3
   },
   "file_extension": ".py",
   "mimetype": "text/x-python",
   "name": "python",
   "nbconvert_exporter": "python",
   "pygments_lexer": "ipython3",
   "version": "3.11.13"
  }
 },
 "nbformat": 4,
 "nbformat_minor": 5
}
